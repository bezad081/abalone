{
 "cells": [
  {
   "cell_type": "code",
   "execution_count": 1,
   "id": "c1b1851a",
   "metadata": {},
   "outputs": [
    {
     "name": "stderr",
     "output_type": "stream",
     "text": [
      "C:\\Users\\B&E\\AppData\\Local\\Temp\\ipykernel_12428\\3875804856.py:5: DeprecationWarning: `import pandas_profiling` is going to be deprecated by April 1st. Please use `import ydata_profiling` instead.\n",
      "  import pandas_profiling as pp\n"
     ]
    }
   ],
   "source": [
    "import pandas as pd\n",
    "import numpy as np\n",
    "import matplotlib.pyplot as plt\n",
    "import seaborn as sns\n",
    "import pandas_profiling as pp"
   ]
  },
  {
   "cell_type": "code",
   "execution_count": 2,
   "id": "3b9ad3fe",
   "metadata": {},
   "outputs": [
    {
     "data": {
      "text/html": [
       "<div>\n",
       "<style scoped>\n",
       "    .dataframe tbody tr th:only-of-type {\n",
       "        vertical-align: middle;\n",
       "    }\n",
       "\n",
       "    .dataframe tbody tr th {\n",
       "        vertical-align: top;\n",
       "    }\n",
       "\n",
       "    .dataframe thead th {\n",
       "        text-align: right;\n",
       "    }\n",
       "</style>\n",
       "<table border=\"1\" class=\"dataframe\">\n",
       "  <thead>\n",
       "    <tr style=\"text-align: right;\">\n",
       "      <th></th>\n",
       "      <th>Sex</th>\n",
       "      <th>Length</th>\n",
       "      <th>Diameter</th>\n",
       "      <th>Height</th>\n",
       "      <th>WholeWeight</th>\n",
       "      <th>ShuckedWeight</th>\n",
       "      <th>VisceraWeight</th>\n",
       "      <th>ShellWeight</th>\n",
       "      <th>Rings</th>\n",
       "    </tr>\n",
       "  </thead>\n",
       "  <tbody>\n",
       "    <tr>\n",
       "      <th>0</th>\n",
       "      <td>M</td>\n",
       "      <td>0.455</td>\n",
       "      <td>0.365</td>\n",
       "      <td>0.095</td>\n",
       "      <td>0.5140</td>\n",
       "      <td>0.2245</td>\n",
       "      <td>0.1010</td>\n",
       "      <td>0.150</td>\n",
       "      <td>15</td>\n",
       "    </tr>\n",
       "    <tr>\n",
       "      <th>1</th>\n",
       "      <td>M</td>\n",
       "      <td>0.350</td>\n",
       "      <td>0.265</td>\n",
       "      <td>0.090</td>\n",
       "      <td>0.2255</td>\n",
       "      <td>0.0995</td>\n",
       "      <td>0.0485</td>\n",
       "      <td>0.070</td>\n",
       "      <td>7</td>\n",
       "    </tr>\n",
       "    <tr>\n",
       "      <th>2</th>\n",
       "      <td>F</td>\n",
       "      <td>0.530</td>\n",
       "      <td>0.420</td>\n",
       "      <td>0.135</td>\n",
       "      <td>0.6770</td>\n",
       "      <td>0.2565</td>\n",
       "      <td>0.1415</td>\n",
       "      <td>0.210</td>\n",
       "      <td>9</td>\n",
       "    </tr>\n",
       "    <tr>\n",
       "      <th>3</th>\n",
       "      <td>M</td>\n",
       "      <td>0.440</td>\n",
       "      <td>0.365</td>\n",
       "      <td>0.125</td>\n",
       "      <td>0.5160</td>\n",
       "      <td>0.2155</td>\n",
       "      <td>0.1140</td>\n",
       "      <td>0.155</td>\n",
       "      <td>10</td>\n",
       "    </tr>\n",
       "    <tr>\n",
       "      <th>4</th>\n",
       "      <td>I</td>\n",
       "      <td>0.330</td>\n",
       "      <td>0.255</td>\n",
       "      <td>0.080</td>\n",
       "      <td>0.2050</td>\n",
       "      <td>0.0895</td>\n",
       "      <td>0.0395</td>\n",
       "      <td>0.055</td>\n",
       "      <td>7</td>\n",
       "    </tr>\n",
       "  </tbody>\n",
       "</table>\n",
       "</div>"
      ],
      "text/plain": [
       "  Sex  Length  Diameter  Height  WholeWeight  ShuckedWeight  VisceraWeight  \\\n",
       "0   M   0.455     0.365   0.095       0.5140         0.2245         0.1010   \n",
       "1   M   0.350     0.265   0.090       0.2255         0.0995         0.0485   \n",
       "2   F   0.530     0.420   0.135       0.6770         0.2565         0.1415   \n",
       "3   M   0.440     0.365   0.125       0.5160         0.2155         0.1140   \n",
       "4   I   0.330     0.255   0.080       0.2050         0.0895         0.0395   \n",
       "\n",
       "   ShellWeight  Rings  \n",
       "0        0.150     15  \n",
       "1        0.070      7  \n",
       "2        0.210      9  \n",
       "3        0.155     10  \n",
       "4        0.055      7  "
      ]
     },
     "execution_count": 2,
     "metadata": {},
     "output_type": "execute_result"
    }
   ],
   "source": [
    "dt=pd.read_csv(\"abalon.csv\")\n",
    "dt.head()"
   ]
  },
  {
   "cell_type": "code",
   "execution_count": 68,
   "id": "70e7536d",
   "metadata": {},
   "outputs": [
    {
     "data": {
      "application/vnd.jupyter.widget-view+json": {
       "model_id": "424e26ebcdcd42b89d27f7fe01314ace",
       "version_major": 2,
       "version_minor": 0
      },
      "text/plain": [
       "Summarize dataset:   0%|          | 0/5 [00:00<?, ?it/s]"
      ]
     },
     "metadata": {},
     "output_type": "display_data"
    },
    {
     "data": {
      "application/vnd.jupyter.widget-view+json": {
       "model_id": "303b21c108594a039180136e40b6d263",
       "version_major": 2,
       "version_minor": 0
      },
      "text/plain": [
       "Generate report structure:   0%|          | 0/1 [00:00<?, ?it/s]"
      ]
     },
     "metadata": {},
     "output_type": "display_data"
    },
    {
     "data": {
      "application/vnd.jupyter.widget-view+json": {
       "model_id": "393e8b351aa54645818f9aa3d52cbcab",
       "version_major": 2,
       "version_minor": 0
      },
      "text/plain": [
       "Render HTML:   0%|          | 0/1 [00:00<?, ?it/s]"
      ]
     },
     "metadata": {},
     "output_type": "display_data"
    },
    {
     "data": {
      "application/vnd.jupyter.widget-view+json": {
       "model_id": "41b4ad1ed2d94723a272dd2cecece13c",
       "version_major": 2,
       "version_minor": 0
      },
      "text/plain": [
       "Export report to file:   0%|          | 0/1 [00:00<?, ?it/s]"
      ]
     },
     "metadata": {},
     "output_type": "display_data"
    }
   ],
   "source": [
    "profile = pp.ProfileReport(dt)\n",
    "profile.to_file(\"output.html\")"
   ]
  },
  {
   "cell_type": "code",
   "execution_count": 3,
   "id": "38bc82de",
   "metadata": {},
   "outputs": [],
   "source": [
    "dt=pd.get_dummies(dt)\n"
   ]
  },
  {
   "cell_type": "code",
   "execution_count": 4,
   "id": "848256ee",
   "metadata": {},
   "outputs": [
    {
     "data": {
      "text/html": [
       "<div>\n",
       "<style scoped>\n",
       "    .dataframe tbody tr th:only-of-type {\n",
       "        vertical-align: middle;\n",
       "    }\n",
       "\n",
       "    .dataframe tbody tr th {\n",
       "        vertical-align: top;\n",
       "    }\n",
       "\n",
       "    .dataframe thead th {\n",
       "        text-align: right;\n",
       "    }\n",
       "</style>\n",
       "<table border=\"1\" class=\"dataframe\">\n",
       "  <thead>\n",
       "    <tr style=\"text-align: right;\">\n",
       "      <th></th>\n",
       "      <th>Length</th>\n",
       "      <th>Diameter</th>\n",
       "      <th>Height</th>\n",
       "      <th>WholeWeight</th>\n",
       "      <th>ShuckedWeight</th>\n",
       "      <th>VisceraWeight</th>\n",
       "      <th>ShellWeight</th>\n",
       "      <th>Rings</th>\n",
       "      <th>Sex_F</th>\n",
       "      <th>Sex_I</th>\n",
       "      <th>Sex_M</th>\n",
       "    </tr>\n",
       "  </thead>\n",
       "  <tbody>\n",
       "    <tr>\n",
       "      <th>0</th>\n",
       "      <td>0.455</td>\n",
       "      <td>0.365</td>\n",
       "      <td>0.095</td>\n",
       "      <td>0.5140</td>\n",
       "      <td>0.2245</td>\n",
       "      <td>0.1010</td>\n",
       "      <td>0.1500</td>\n",
       "      <td>15</td>\n",
       "      <td>0</td>\n",
       "      <td>0</td>\n",
       "      <td>1</td>\n",
       "    </tr>\n",
       "    <tr>\n",
       "      <th>1</th>\n",
       "      <td>0.350</td>\n",
       "      <td>0.265</td>\n",
       "      <td>0.090</td>\n",
       "      <td>0.2255</td>\n",
       "      <td>0.0995</td>\n",
       "      <td>0.0485</td>\n",
       "      <td>0.0700</td>\n",
       "      <td>7</td>\n",
       "      <td>0</td>\n",
       "      <td>0</td>\n",
       "      <td>1</td>\n",
       "    </tr>\n",
       "    <tr>\n",
       "      <th>2</th>\n",
       "      <td>0.530</td>\n",
       "      <td>0.420</td>\n",
       "      <td>0.135</td>\n",
       "      <td>0.6770</td>\n",
       "      <td>0.2565</td>\n",
       "      <td>0.1415</td>\n",
       "      <td>0.2100</td>\n",
       "      <td>9</td>\n",
       "      <td>1</td>\n",
       "      <td>0</td>\n",
       "      <td>0</td>\n",
       "    </tr>\n",
       "    <tr>\n",
       "      <th>3</th>\n",
       "      <td>0.440</td>\n",
       "      <td>0.365</td>\n",
       "      <td>0.125</td>\n",
       "      <td>0.5160</td>\n",
       "      <td>0.2155</td>\n",
       "      <td>0.1140</td>\n",
       "      <td>0.1550</td>\n",
       "      <td>10</td>\n",
       "      <td>0</td>\n",
       "      <td>0</td>\n",
       "      <td>1</td>\n",
       "    </tr>\n",
       "    <tr>\n",
       "      <th>4</th>\n",
       "      <td>0.330</td>\n",
       "      <td>0.255</td>\n",
       "      <td>0.080</td>\n",
       "      <td>0.2050</td>\n",
       "      <td>0.0895</td>\n",
       "      <td>0.0395</td>\n",
       "      <td>0.0550</td>\n",
       "      <td>7</td>\n",
       "      <td>0</td>\n",
       "      <td>1</td>\n",
       "      <td>0</td>\n",
       "    </tr>\n",
       "    <tr>\n",
       "      <th>...</th>\n",
       "      <td>...</td>\n",
       "      <td>...</td>\n",
       "      <td>...</td>\n",
       "      <td>...</td>\n",
       "      <td>...</td>\n",
       "      <td>...</td>\n",
       "      <td>...</td>\n",
       "      <td>...</td>\n",
       "      <td>...</td>\n",
       "      <td>...</td>\n",
       "      <td>...</td>\n",
       "    </tr>\n",
       "    <tr>\n",
       "      <th>4172</th>\n",
       "      <td>0.565</td>\n",
       "      <td>0.450</td>\n",
       "      <td>0.165</td>\n",
       "      <td>0.8870</td>\n",
       "      <td>0.3700</td>\n",
       "      <td>0.2390</td>\n",
       "      <td>0.2490</td>\n",
       "      <td>11</td>\n",
       "      <td>1</td>\n",
       "      <td>0</td>\n",
       "      <td>0</td>\n",
       "    </tr>\n",
       "    <tr>\n",
       "      <th>4173</th>\n",
       "      <td>0.590</td>\n",
       "      <td>0.440</td>\n",
       "      <td>0.135</td>\n",
       "      <td>0.9660</td>\n",
       "      <td>0.4390</td>\n",
       "      <td>0.2145</td>\n",
       "      <td>0.2605</td>\n",
       "      <td>10</td>\n",
       "      <td>0</td>\n",
       "      <td>0</td>\n",
       "      <td>1</td>\n",
       "    </tr>\n",
       "    <tr>\n",
       "      <th>4174</th>\n",
       "      <td>0.600</td>\n",
       "      <td>0.475</td>\n",
       "      <td>0.205</td>\n",
       "      <td>1.1760</td>\n",
       "      <td>0.5255</td>\n",
       "      <td>0.2875</td>\n",
       "      <td>0.3080</td>\n",
       "      <td>9</td>\n",
       "      <td>0</td>\n",
       "      <td>0</td>\n",
       "      <td>1</td>\n",
       "    </tr>\n",
       "    <tr>\n",
       "      <th>4175</th>\n",
       "      <td>0.625</td>\n",
       "      <td>0.485</td>\n",
       "      <td>0.150</td>\n",
       "      <td>1.0945</td>\n",
       "      <td>0.5310</td>\n",
       "      <td>0.2610</td>\n",
       "      <td>0.2960</td>\n",
       "      <td>10</td>\n",
       "      <td>1</td>\n",
       "      <td>0</td>\n",
       "      <td>0</td>\n",
       "    </tr>\n",
       "    <tr>\n",
       "      <th>4176</th>\n",
       "      <td>0.710</td>\n",
       "      <td>0.555</td>\n",
       "      <td>0.195</td>\n",
       "      <td>1.9485</td>\n",
       "      <td>0.9455</td>\n",
       "      <td>0.3765</td>\n",
       "      <td>0.4950</td>\n",
       "      <td>12</td>\n",
       "      <td>0</td>\n",
       "      <td>0</td>\n",
       "      <td>1</td>\n",
       "    </tr>\n",
       "  </tbody>\n",
       "</table>\n",
       "<p>4177 rows × 11 columns</p>\n",
       "</div>"
      ],
      "text/plain": [
       "      Length  Diameter  Height  WholeWeight  ShuckedWeight  VisceraWeight  \\\n",
       "0      0.455     0.365   0.095       0.5140         0.2245         0.1010   \n",
       "1      0.350     0.265   0.090       0.2255         0.0995         0.0485   \n",
       "2      0.530     0.420   0.135       0.6770         0.2565         0.1415   \n",
       "3      0.440     0.365   0.125       0.5160         0.2155         0.1140   \n",
       "4      0.330     0.255   0.080       0.2050         0.0895         0.0395   \n",
       "...      ...       ...     ...          ...            ...            ...   \n",
       "4172   0.565     0.450   0.165       0.8870         0.3700         0.2390   \n",
       "4173   0.590     0.440   0.135       0.9660         0.4390         0.2145   \n",
       "4174   0.600     0.475   0.205       1.1760         0.5255         0.2875   \n",
       "4175   0.625     0.485   0.150       1.0945         0.5310         0.2610   \n",
       "4176   0.710     0.555   0.195       1.9485         0.9455         0.3765   \n",
       "\n",
       "      ShellWeight  Rings  Sex_F  Sex_I  Sex_M  \n",
       "0          0.1500     15      0      0      1  \n",
       "1          0.0700      7      0      0      1  \n",
       "2          0.2100      9      1      0      0  \n",
       "3          0.1550     10      0      0      1  \n",
       "4          0.0550      7      0      1      0  \n",
       "...           ...    ...    ...    ...    ...  \n",
       "4172       0.2490     11      1      0      0  \n",
       "4173       0.2605     10      0      0      1  \n",
       "4174       0.3080      9      0      0      1  \n",
       "4175       0.2960     10      1      0      0  \n",
       "4176       0.4950     12      0      0      1  \n",
       "\n",
       "[4177 rows x 11 columns]"
      ]
     },
     "execution_count": 4,
     "metadata": {},
     "output_type": "execute_result"
    }
   ],
   "source": [
    "dt"
   ]
  },
  {
   "cell_type": "code",
   "execution_count": 5,
   "id": "7bb8d3c7",
   "metadata": {},
   "outputs": [
    {
     "data": {
      "text/plain": [
       "<AxesSubplot:>"
      ]
     },
     "execution_count": 5,
     "metadata": {},
     "output_type": "execute_result"
    },
    {
     "data": {
      "image/png": "[encoded data removed]",
      "text/plain": [
       "<Figure size 432x288 with 1 Axes>"
      ]
     },
     "metadata": {
      "needs_background": "light"
     },
     "output_type": "display_data"
    }
   ],
   "source": [
    "import seaborn as sns\n",
    "sns.boxplot(data=dt[[\"Length\",\"Height\",\"WholeWeight\",\"ShuckedWeight\",\"VisceraWeight\",\"ShellWeight\",\"Diameter\"]])"
   ]
  },
  {
   "cell_type": "code",
   "execution_count": 6,
   "id": "32c6abed",
   "metadata": {},
   "outputs": [
    {
     "data": {
      "text/plain": [
       "<AxesSubplot:>"
      ]
     },
     "execution_count": 6,
     "metadata": {},
     "output_type": "execute_result"
    },
    {
     "data": {
      "image/png": "[encoded data removed]",
      "text/plain": [
       "<Figure size 432x288 with 1 Axes>"
      ]
     },
     "metadata": {
      "needs_background": "light"
     },
     "output_type": "display_data"
    }
   ],
   "source": [
    "import seaborn as sns\n",
    "sns.boxplot(data=dt[\"Height\"])"
   ]
  },
  {
   "cell_type": "code",
   "execution_count": 7,
   "id": "803e27af",
   "metadata": {},
   "outputs": [
    {
     "data": {
      "text/plain": [
       "2"
      ]
     },
     "execution_count": 7,
     "metadata": {},
     "output_type": "execute_result"
    }
   ],
   "source": [
    "len(dt[dt[\"Height\"]>0.4])\n"
   ]
  },
  {
   "cell_type": "code",
   "execution_count": 8,
   "id": "f4ba0eed",
   "metadata": {},
   "outputs": [
    {
     "data": {
      "text/html": [
       "<div>\n",
       "<style scoped>\n",
       "    .dataframe tbody tr th:only-of-type {\n",
       "        vertical-align: middle;\n",
       "    }\n",
       "\n",
       "    .dataframe tbody tr th {\n",
       "        vertical-align: top;\n",
       "    }\n",
       "\n",
       "    .dataframe thead th {\n",
       "        text-align: right;\n",
       "    }\n",
       "</style>\n",
       "<table border=\"1\" class=\"dataframe\">\n",
       "  <thead>\n",
       "    <tr style=\"text-align: right;\">\n",
       "      <th></th>\n",
       "      <th>Length</th>\n",
       "      <th>Diameter</th>\n",
       "      <th>Height</th>\n",
       "      <th>WholeWeight</th>\n",
       "      <th>ShuckedWeight</th>\n",
       "      <th>VisceraWeight</th>\n",
       "      <th>ShellWeight</th>\n",
       "      <th>Rings</th>\n",
       "      <th>Sex_F</th>\n",
       "      <th>Sex_I</th>\n",
       "      <th>Sex_M</th>\n",
       "    </tr>\n",
       "  </thead>\n",
       "  <tbody>\n",
       "    <tr>\n",
       "      <th>1417</th>\n",
       "      <td>0.705</td>\n",
       "      <td>0.565</td>\n",
       "      <td>0.515</td>\n",
       "      <td>2.210</td>\n",
       "      <td>1.1075</td>\n",
       "      <td>0.4865</td>\n",
       "      <td>0.5120</td>\n",
       "      <td>10</td>\n",
       "      <td>0</td>\n",
       "      <td>0</td>\n",
       "      <td>1</td>\n",
       "    </tr>\n",
       "    <tr>\n",
       "      <th>2051</th>\n",
       "      <td>0.455</td>\n",
       "      <td>0.355</td>\n",
       "      <td>1.130</td>\n",
       "      <td>0.594</td>\n",
       "      <td>0.3320</td>\n",
       "      <td>0.1160</td>\n",
       "      <td>0.1335</td>\n",
       "      <td>8</td>\n",
       "      <td>1</td>\n",
       "      <td>0</td>\n",
       "      <td>0</td>\n",
       "    </tr>\n",
       "  </tbody>\n",
       "</table>\n",
       "</div>"
      ],
      "text/plain": [
       "      Length  Diameter  Height  WholeWeight  ShuckedWeight  VisceraWeight  \\\n",
       "1417   0.705     0.565   0.515        2.210         1.1075         0.4865   \n",
       "2051   0.455     0.355   1.130        0.594         0.3320         0.1160   \n",
       "\n",
       "      ShellWeight  Rings  Sex_F  Sex_I  Sex_M  \n",
       "1417       0.5120     10      0      0      1  \n",
       "2051       0.1335      8      1      0      0  "
      ]
     },
     "execution_count": 8,
     "metadata": {},
     "output_type": "execute_result"
    }
   ],
   "source": [
    "dt[dt[\"Height\"]>0.4]"
   ]
  },
  {
   "cell_type": "code",
   "execution_count": 9,
   "id": "d3f0db57",
   "metadata": {},
   "outputs": [],
   "source": [
    "dt=dt.drop(index=[1417,2051])"
   ]
  },
  {
   "cell_type": "code",
   "execution_count": 10,
   "id": "89d992ec",
   "metadata": {},
   "outputs": [
    {
     "data": {
      "text/plain": [
       "<AxesSubplot:>"
      ]
     },
     "execution_count": 10,
     "metadata": {},
     "output_type": "execute_result"
    },
    {
     "data": {
      "image/png": "[encoded data removed]",
      "text/plain": [
       "<Figure size 432x288 with 1 Axes>"
      ]
     },
     "metadata": {
      "needs_background": "light"
     },
     "output_type": "display_data"
    }
   ],
   "source": [
    "import seaborn as sns\n",
    "sns.boxplot(data=dt[\"Height\"])"
   ]
  },
  {
   "cell_type": "code",
   "execution_count": 11,
   "id": "9184b85e",
   "metadata": {},
   "outputs": [],
   "source": [
    "dt=dt.reset_index()"
   ]
  },
  {
   "cell_type": "code",
   "execution_count": 12,
   "id": "9d2d383a",
   "metadata": {},
   "outputs": [
    {
     "name": "stderr",
     "output_type": "stream",
     "text": [
      "C:\\Users\\B&E\\AppData\\Local\\Temp\\ipykernel_12428\\490316137.py:1: FutureWarning: In a future version of pandas all arguments of DataFrame.drop except for the argument 'labels' will be keyword-only.\n",
      "  dt=dt.drop(\"index\",1)\n"
     ]
    },
    {
     "data": {
      "text/html": [
       "<div>\n",
       "<style scoped>\n",
       "    .dataframe tbody tr th:only-of-type {\n",
       "        vertical-align: middle;\n",
       "    }\n",
       "\n",
       "    .dataframe tbody tr th {\n",
       "        vertical-align: top;\n",
       "    }\n",
       "\n",
       "    .dataframe thead th {\n",
       "        text-align: right;\n",
       "    }\n",
       "</style>\n",
       "<table border=\"1\" class=\"dataframe\">\n",
       "  <thead>\n",
       "    <tr style=\"text-align: right;\">\n",
       "      <th></th>\n",
       "      <th>Length</th>\n",
       "      <th>Diameter</th>\n",
       "      <th>Height</th>\n",
       "      <th>WholeWeight</th>\n",
       "      <th>ShuckedWeight</th>\n",
       "      <th>VisceraWeight</th>\n",
       "      <th>ShellWeight</th>\n",
       "      <th>Rings</th>\n",
       "      <th>Sex_F</th>\n",
       "      <th>Sex_I</th>\n",
       "      <th>Sex_M</th>\n",
       "    </tr>\n",
       "  </thead>\n",
       "  <tbody>\n",
       "    <tr>\n",
       "      <th>0</th>\n",
       "      <td>0.455</td>\n",
       "      <td>0.365</td>\n",
       "      <td>0.095</td>\n",
       "      <td>0.5140</td>\n",
       "      <td>0.2245</td>\n",
       "      <td>0.1010</td>\n",
       "      <td>0.1500</td>\n",
       "      <td>15</td>\n",
       "      <td>0</td>\n",
       "      <td>0</td>\n",
       "      <td>1</td>\n",
       "    </tr>\n",
       "    <tr>\n",
       "      <th>1</th>\n",
       "      <td>0.350</td>\n",
       "      <td>0.265</td>\n",
       "      <td>0.090</td>\n",
       "      <td>0.2255</td>\n",
       "      <td>0.0995</td>\n",
       "      <td>0.0485</td>\n",
       "      <td>0.0700</td>\n",
       "      <td>7</td>\n",
       "      <td>0</td>\n",
       "      <td>0</td>\n",
       "      <td>1</td>\n",
       "    </tr>\n",
       "    <tr>\n",
       "      <th>2</th>\n",
       "      <td>0.530</td>\n",
       "      <td>0.420</td>\n",
       "      <td>0.135</td>\n",
       "      <td>0.6770</td>\n",
       "      <td>0.2565</td>\n",
       "      <td>0.1415</td>\n",
       "      <td>0.2100</td>\n",
       "      <td>9</td>\n",
       "      <td>1</td>\n",
       "      <td>0</td>\n",
       "      <td>0</td>\n",
       "    </tr>\n",
       "    <tr>\n",
       "      <th>3</th>\n",
       "      <td>0.440</td>\n",
       "      <td>0.365</td>\n",
       "      <td>0.125</td>\n",
       "      <td>0.5160</td>\n",
       "      <td>0.2155</td>\n",
       "      <td>0.1140</td>\n",
       "      <td>0.1550</td>\n",
       "      <td>10</td>\n",
       "      <td>0</td>\n",
       "      <td>0</td>\n",
       "      <td>1</td>\n",
       "    </tr>\n",
       "    <tr>\n",
       "      <th>4</th>\n",
       "      <td>0.330</td>\n",
       "      <td>0.255</td>\n",
       "      <td>0.080</td>\n",
       "      <td>0.2050</td>\n",
       "      <td>0.0895</td>\n",
       "      <td>0.0395</td>\n",
       "      <td>0.0550</td>\n",
       "      <td>7</td>\n",
       "      <td>0</td>\n",
       "      <td>1</td>\n",
       "      <td>0</td>\n",
       "    </tr>\n",
       "    <tr>\n",
       "      <th>...</th>\n",
       "      <td>...</td>\n",
       "      <td>...</td>\n",
       "      <td>...</td>\n",
       "      <td>...</td>\n",
       "      <td>...</td>\n",
       "      <td>...</td>\n",
       "      <td>...</td>\n",
       "      <td>...</td>\n",
       "      <td>...</td>\n",
       "      <td>...</td>\n",
       "      <td>...</td>\n",
       "    </tr>\n",
       "    <tr>\n",
       "      <th>4170</th>\n",
       "      <td>0.565</td>\n",
       "      <td>0.450</td>\n",
       "      <td>0.165</td>\n",
       "      <td>0.8870</td>\n",
       "      <td>0.3700</td>\n",
       "      <td>0.2390</td>\n",
       "      <td>0.2490</td>\n",
       "      <td>11</td>\n",
       "      <td>1</td>\n",
       "      <td>0</td>\n",
       "      <td>0</td>\n",
       "    </tr>\n",
       "    <tr>\n",
       "      <th>4171</th>\n",
       "      <td>0.590</td>\n",
       "      <td>0.440</td>\n",
       "      <td>0.135</td>\n",
       "      <td>0.9660</td>\n",
       "      <td>0.4390</td>\n",
       "      <td>0.2145</td>\n",
       "      <td>0.2605</td>\n",
       "      <td>10</td>\n",
       "      <td>0</td>\n",
       "      <td>0</td>\n",
       "      <td>1</td>\n",
       "    </tr>\n",
       "    <tr>\n",
       "      <th>4172</th>\n",
       "      <td>0.600</td>\n",
       "      <td>0.475</td>\n",
       "      <td>0.205</td>\n",
       "      <td>1.1760</td>\n",
       "      <td>0.5255</td>\n",
       "      <td>0.2875</td>\n",
       "      <td>0.3080</td>\n",
       "      <td>9</td>\n",
       "      <td>0</td>\n",
       "      <td>0</td>\n",
       "      <td>1</td>\n",
       "    </tr>\n",
       "    <tr>\n",
       "      <th>4173</th>\n",
       "      <td>0.625</td>\n",
       "      <td>0.485</td>\n",
       "      <td>0.150</td>\n",
       "      <td>1.0945</td>\n",
       "      <td>0.5310</td>\n",
       "      <td>0.2610</td>\n",
       "      <td>0.2960</td>\n",
       "      <td>10</td>\n",
       "      <td>1</td>\n",
       "      <td>0</td>\n",
       "      <td>0</td>\n",
       "    </tr>\n",
       "    <tr>\n",
       "      <th>4174</th>\n",
       "      <td>0.710</td>\n",
       "      <td>0.555</td>\n",
       "      <td>0.195</td>\n",
       "      <td>1.9485</td>\n",
       "      <td>0.9455</td>\n",
       "      <td>0.3765</td>\n",
       "      <td>0.4950</td>\n",
       "      <td>12</td>\n",
       "      <td>0</td>\n",
       "      <td>0</td>\n",
       "      <td>1</td>\n",
       "    </tr>\n",
       "  </tbody>\n",
       "</table>\n",
       "<p>4175 rows × 11 columns</p>\n",
       "</div>"
      ],
      "text/plain": [
       "      Length  Diameter  Height  WholeWeight  ShuckedWeight  VisceraWeight  \\\n",
       "0      0.455     0.365   0.095       0.5140         0.2245         0.1010   \n",
       "1      0.350     0.265   0.090       0.2255         0.0995         0.0485   \n",
       "2      0.530     0.420   0.135       0.6770         0.2565         0.1415   \n",
       "3      0.440     0.365   0.125       0.5160         0.2155         0.1140   \n",
       "4      0.330     0.255   0.080       0.2050         0.0895         0.0395   \n",
       "...      ...       ...     ...          ...            ...            ...   \n",
       "4170   0.565     0.450   0.165       0.8870         0.3700         0.2390   \n",
       "4171   0.590     0.440   0.135       0.9660         0.4390         0.2145   \n",
       "4172   0.600     0.475   0.205       1.1760         0.5255         0.2875   \n",
       "4173   0.625     0.485   0.150       1.0945         0.5310         0.2610   \n",
       "4174   0.710     0.555   0.195       1.9485         0.9455         0.3765   \n",
       "\n",
       "      ShellWeight  Rings  Sex_F  Sex_I  Sex_M  \n",
       "0          0.1500     15      0      0      1  \n",
       "1          0.0700      7      0      0      1  \n",
       "2          0.2100      9      1      0      0  \n",
       "3          0.1550     10      0      0      1  \n",
       "4          0.0550      7      0      1      0  \n",
       "...           ...    ...    ...    ...    ...  \n",
       "4170       0.2490     11      1      0      0  \n",
       "4171       0.2605     10      0      0      1  \n",
       "4172       0.3080      9      0      0      1  \n",
       "4173       0.2960     10      1      0      0  \n",
       "4174       0.4950     12      0      0      1  \n",
       "\n",
       "[4175 rows x 11 columns]"
      ]
     },
     "execution_count": 12,
     "metadata": {},
     "output_type": "execute_result"
    }
   ],
   "source": [
    "dt=dt.drop(\"index\",1)\n",
    "dt"
   ]
  },
  {
   "cell_type": "code",
   "execution_count": 13,
   "id": "3293331c",
   "metadata": {},
   "outputs": [],
   "source": [
    "dt['age'] = dt['Rings']+1.5\n",
    "dt.drop('Rings', axis = 1, inplace = True)"
   ]
  },
  {
   "cell_type": "code",
   "execution_count": 57,
   "id": "f1a0a106",
   "metadata": {},
   "outputs": [],
   "source": [
    "from sklearn.preprocessing import StandardScaler\n",
    "\n",
    "scaled_features = dt.copy()\n",
    "\n",
    "col_names = ['Length', 'Diameter',\"Height\",\"WholeWeight\",\"ShuckedWeight\",\"VisceraWeight\",\"ShellWeight\"]\n",
    "features = scaled_features[col_names]\n",
    "scaler = StandardScaler().fit(features.values)\n",
    "features = scaler.transform(features.values)"
   ]
  },
  {
   "cell_type": "code",
   "execution_count": 58,
   "id": "ebf70256",
   "metadata": {},
   "outputs": [
    {
     "data": {
      "text/html": [
       "<div>\n",
       "<style scoped>\n",
       "    .dataframe tbody tr th:only-of-type {\n",
       "        vertical-align: middle;\n",
       "    }\n",
       "\n",
       "    .dataframe tbody tr th {\n",
       "        vertical-align: top;\n",
       "    }\n",
       "\n",
       "    .dataframe thead th {\n",
       "        text-align: right;\n",
       "    }\n",
       "</style>\n",
       "<table border=\"1\" class=\"dataframe\">\n",
       "  <thead>\n",
       "    <tr style=\"text-align: right;\">\n",
       "      <th></th>\n",
       "      <th>Length</th>\n",
       "      <th>Diameter</th>\n",
       "      <th>Height</th>\n",
       "      <th>WholeWeight</th>\n",
       "      <th>ShuckedWeight</th>\n",
       "      <th>VisceraWeight</th>\n",
       "      <th>ShellWeight</th>\n",
       "      <th>Sex_F</th>\n",
       "      <th>Sex_I</th>\n",
       "      <th>Sex_M</th>\n",
       "      <th>age</th>\n",
       "    </tr>\n",
       "  </thead>\n",
       "  <tbody>\n",
       "    <tr>\n",
       "      <th>0</th>\n",
       "      <td>-0.574376</td>\n",
       "      <td>-0.431938</td>\n",
       "      <td>-1.148233</td>\n",
       "      <td>-0.641812</td>\n",
       "      <td>-0.607590</td>\n",
       "      <td>-0.726218</td>\n",
       "      <td>-0.638113</td>\n",
       "      <td>0</td>\n",
       "      <td>0</td>\n",
       "      <td>1</td>\n",
       "      <td>16.5</td>\n",
       "    </tr>\n",
       "    <tr>\n",
       "      <th>1</th>\n",
       "      <td>-1.448867</td>\n",
       "      <td>-1.439814</td>\n",
       "      <td>-1.278155</td>\n",
       "      <td>-1.230626</td>\n",
       "      <td>-1.171449</td>\n",
       "      <td>-1.205581</td>\n",
       "      <td>-1.213051</td>\n",
       "      <td>0</td>\n",
       "      <td>0</td>\n",
       "      <td>1</td>\n",
       "      <td>8.5</td>\n",
       "    </tr>\n",
       "    <tr>\n",
       "      <th>2</th>\n",
       "      <td>0.050260</td>\n",
       "      <td>0.122394</td>\n",
       "      <td>-0.108855</td>\n",
       "      <td>-0.309138</td>\n",
       "      <td>-0.463243</td>\n",
       "      <td>-0.356425</td>\n",
       "      <td>-0.206910</td>\n",
       "      <td>1</td>\n",
       "      <td>0</td>\n",
       "      <td>0</td>\n",
       "      <td>10.5</td>\n",
       "    </tr>\n",
       "    <tr>\n",
       "      <th>3</th>\n",
       "      <td>-0.699303</td>\n",
       "      <td>-0.431938</td>\n",
       "      <td>-0.368699</td>\n",
       "      <td>-0.637730</td>\n",
       "      <td>-0.648188</td>\n",
       "      <td>-0.607519</td>\n",
       "      <td>-0.602180</td>\n",
       "      <td>0</td>\n",
       "      <td>0</td>\n",
       "      <td>1</td>\n",
       "      <td>11.5</td>\n",
       "    </tr>\n",
       "    <tr>\n",
       "      <th>4</th>\n",
       "      <td>-1.615437</td>\n",
       "      <td>-1.540601</td>\n",
       "      <td>-1.537999</td>\n",
       "      <td>-1.272466</td>\n",
       "      <td>-1.216557</td>\n",
       "      <td>-1.287757</td>\n",
       "      <td>-1.320852</td>\n",
       "      <td>0</td>\n",
       "      <td>1</td>\n",
       "      <td>0</td>\n",
       "      <td>8.5</td>\n",
       "    </tr>\n",
       "    <tr>\n",
       "      <th>...</th>\n",
       "      <td>...</td>\n",
       "      <td>...</td>\n",
       "      <td>...</td>\n",
       "      <td>...</td>\n",
       "      <td>...</td>\n",
       "      <td>...</td>\n",
       "      <td>...</td>\n",
       "      <td>...</td>\n",
       "      <td>...</td>\n",
       "      <td>...</td>\n",
       "      <td>...</td>\n",
       "    </tr>\n",
       "    <tr>\n",
       "      <th>4170</th>\n",
       "      <td>0.341757</td>\n",
       "      <td>0.424756</td>\n",
       "      <td>0.670679</td>\n",
       "      <td>0.119462</td>\n",
       "      <td>0.048741</td>\n",
       "      <td>0.533820</td>\n",
       "      <td>0.073372</td>\n",
       "      <td>1</td>\n",
       "      <td>0</td>\n",
       "      <td>0</td>\n",
       "      <td>12.5</td>\n",
       "    </tr>\n",
       "    <tr>\n",
       "      <th>4171</th>\n",
       "      <td>0.549969</td>\n",
       "      <td>0.323969</td>\n",
       "      <td>-0.108855</td>\n",
       "      <td>0.280697</td>\n",
       "      <td>0.359990</td>\n",
       "      <td>0.310117</td>\n",
       "      <td>0.156019</td>\n",
       "      <td>0</td>\n",
       "      <td>0</td>\n",
       "      <td>1</td>\n",
       "      <td>11.5</td>\n",
       "    </tr>\n",
       "    <tr>\n",
       "      <th>4172</th>\n",
       "      <td>0.633254</td>\n",
       "      <td>0.676725</td>\n",
       "      <td>1.710057</td>\n",
       "      <td>0.709296</td>\n",
       "      <td>0.750180</td>\n",
       "      <td>0.976659</td>\n",
       "      <td>0.497388</td>\n",
       "      <td>0</td>\n",
       "      <td>0</td>\n",
       "      <td>1</td>\n",
       "      <td>10.5</td>\n",
       "    </tr>\n",
       "    <tr>\n",
       "      <th>4173</th>\n",
       "      <td>0.841466</td>\n",
       "      <td>0.777513</td>\n",
       "      <td>0.280912</td>\n",
       "      <td>0.542959</td>\n",
       "      <td>0.774990</td>\n",
       "      <td>0.734695</td>\n",
       "      <td>0.411147</td>\n",
       "      <td>1</td>\n",
       "      <td>0</td>\n",
       "      <td>0</td>\n",
       "      <td>11.5</td>\n",
       "    </tr>\n",
       "    <tr>\n",
       "      <th>4174</th>\n",
       "      <td>1.549387</td>\n",
       "      <td>1.483026</td>\n",
       "      <td>1.450212</td>\n",
       "      <td>2.285929</td>\n",
       "      <td>2.644744</td>\n",
       "      <td>1.789292</td>\n",
       "      <td>1.841304</td>\n",
       "      <td>0</td>\n",
       "      <td>0</td>\n",
       "      <td>1</td>\n",
       "      <td>13.5</td>\n",
       "    </tr>\n",
       "  </tbody>\n",
       "</table>\n",
       "<p>4175 rows × 11 columns</p>\n",
       "</div>"
      ],
      "text/plain": [
       "        Length  Diameter    Height  WholeWeight  ShuckedWeight  VisceraWeight  \\\n",
       "0    -0.574376 -0.431938 -1.148233    -0.641812      -0.607590      -0.726218   \n",
       "1    -1.448867 -1.439814 -1.278155    -1.230626      -1.171449      -1.205581   \n",
       "2     0.050260  0.122394 -0.108855    -0.309138      -0.463243      -0.356425   \n",
       "3    -0.699303 -0.431938 -0.368699    -0.637730      -0.648188      -0.607519   \n",
       "4    -1.615437 -1.540601 -1.537999    -1.272466      -1.216557      -1.287757   \n",
       "...        ...       ...       ...          ...            ...            ...   \n",
       "4170  0.341757  0.424756  0.670679     0.119462       0.048741       0.533820   \n",
       "4171  0.549969  0.323969 -0.108855     0.280697       0.359990       0.310117   \n",
       "4172  0.633254  0.676725  1.710057     0.709296       0.750180       0.976659   \n",
       "4173  0.841466  0.777513  0.280912     0.542959       0.774990       0.734695   \n",
       "4174  1.549387  1.483026  1.450212     2.285929       2.644744       1.789292   \n",
       "\n",
       "      ShellWeight  Sex_F  Sex_I  Sex_M   age  \n",
       "0       -0.638113      0      0      1  16.5  \n",
       "1       -1.213051      0      0      1   8.5  \n",
       "2       -0.206910      1      0      0  10.5  \n",
       "3       -0.602180      0      0      1  11.5  \n",
       "4       -1.320852      0      1      0   8.5  \n",
       "...           ...    ...    ...    ...   ...  \n",
       "4170     0.073372      1      0      0  12.5  \n",
       "4171     0.156019      0      0      1  11.5  \n",
       "4172     0.497388      0      0      1  10.5  \n",
       "4173     0.411147      1      0      0  11.5  \n",
       "4174     1.841304      0      0      1  13.5  \n",
       "\n",
       "[4175 rows x 11 columns]"
      ]
     },
     "execution_count": 58,
     "metadata": {},
     "output_type": "execute_result"
    }
   ],
   "source": [
    "scaled_features[col_names] = features\n",
    "scaled_features"
   ]
  },
  {
   "cell_type": "code",
   "execution_count": 47,
   "id": "8f2c9472",
   "metadata": {},
   "outputs": [
    {
     "name": "stderr",
     "output_type": "stream",
     "text": [
      "C:\\Users\\B&E\\AppData\\Local\\Temp\\ipykernel_12428\\720696369.py:2: FutureWarning: In a future version of pandas all arguments of DataFrame.drop except for the argument 'labels' will be keyword-only.\n",
      "  x=scaled_features.drop(\"age\",1)\n"
     ]
    }
   ],
   "source": [
    "y=scaled_features[\"age\"]\n",
    "x=scaled_features.drop(\"age\",1)\n",
    "from sklearn.model_selection import train_test_split  \n",
    "x_train, x_test, y_train, y_test= train_test_split(x, y, test_size= 0.2, random_state=0)  "
   ]
  },
  {
   "cell_type": "code",
   "execution_count": 48,
   "id": "9e90b7e7",
   "metadata": {},
   "outputs": [],
   "source": [
    "from sklearn.ensemble import RandomForestRegressor"
   ]
  },
  {
   "cell_type": "code",
   "execution_count": 49,
   "id": "8f929be5",
   "metadata": {},
   "outputs": [
    {
     "name": "stdout",
     "output_type": "stream",
     "text": [
      "Attempting to fit Random Forest Regressor\n"
     ]
    }
   ],
   "source": [
    "model = RandomForestRegressor()\n",
    "model.fit(x_train,y_train)\n",
    "\n",
    "print('Attempting to fit Random Forest Regressor')"
   ]
  },
  {
   "cell_type": "code",
   "execution_count": 50,
   "id": "afaac8b2",
   "metadata": {},
   "outputs": [
    {
     "data": {
      "application/javascript": [
       "\n",
       "        if (window._pyforest_update_imports_cell) { window._pyforest_update_imports_cell('from sklearn import metrics'); }\n",
       "    "
      ],
      "text/plain": [
       "<IPython.core.display.Javascript object>"
      ]
     },
     "metadata": {},
     "output_type": "display_data"
    },
    {
     "name": "stdout",
     "output_type": "stream",
     "text": [
      "MAE on Validation set : 1.5665269461077844\n",
      "\n",
      "\n"
     ]
    },
    {
     "data": {
      "application/javascript": [
       "\n",
       "        if (window._pyforest_update_imports_cell) { window._pyforest_update_imports_cell('from sklearn import metrics'); }\n",
       "    "
      ],
      "text/plain": [
       "<IPython.core.display.Javascript object>"
      ]
     },
     "metadata": {},
     "output_type": "display_data"
    },
    {
     "name": "stdout",
     "output_type": "stream",
     "text": [
      "MSE on Validation set : 4.811934011976048\n",
      "\n",
      "\n"
     ]
    },
    {
     "data": {
      "application/javascript": [
       "\n",
       "        if (window._pyforest_update_imports_cell) { window._pyforest_update_imports_cell('from sklearn import metrics'); }\n",
       "    "
      ],
      "text/plain": [
       "<IPython.core.display.Javascript object>"
      ]
     },
     "metadata": {},
     "output_type": "display_data"
    },
    {
     "name": "stdout",
     "output_type": "stream",
     "text": [
      "RMSE on Validation set : 1.2516097419354741\n",
      "\n",
      "\n"
     ]
    },
    {
     "data": {
      "application/javascript": [
       "\n",
       "        if (window._pyforest_update_imports_cell) { window._pyforest_update_imports_cell('from sklearn import metrics'); }\n",
       "    "
      ],
      "text/plain": [
       "<IPython.core.display.Javascript object>"
      ]
     },
     "metadata": {},
     "output_type": "display_data"
    },
    {
     "name": "stdout",
     "output_type": "stream",
     "text": [
      "R2 Score on Validation set : 0.5151204782284081\n",
      "\n",
      "\n"
     ]
    }
   ],
   "source": [
    "\n",
    "y_pred_val_rf = model.predict(x_test)\n",
    "print('MAE on Validation set :',metrics.mean_absolute_error(y_test, y_pred_val_rf))\n",
    "print(\"\\n\")\n",
    "print('MSE on Validation set :',metrics.mean_squared_error(y_test, y_pred_val_rf))\n",
    "print(\"\\n\")\n",
    "print('RMSE on Validation set :',np.sqrt(metrics.mean_absolute_error(y_test, y_pred_val_rf)))\n",
    "print(\"\\n\")\n",
    "print('R2 Score on Validation set :',metrics.r2_score(y_test, y_pred_val_rf))\n",
    "print(\"\\n\")\n"
   ]
  },
  {
   "cell_type": "code",
   "execution_count": 62,
   "id": "8ce0fce6",
   "metadata": {},
   "outputs": [
    {
     "data": {
      "text/html": [
       "<div>\n",
       "<style scoped>\n",
       "    .dataframe tbody tr th:only-of-type {\n",
       "        vertical-align: middle;\n",
       "    }\n",
       "\n",
       "    .dataframe tbody tr th {\n",
       "        vertical-align: top;\n",
       "    }\n",
       "\n",
       "    .dataframe thead th {\n",
       "        text-align: right;\n",
       "    }\n",
       "</style>\n",
       "<table border=\"1\" class=\"dataframe\">\n",
       "  <thead>\n",
       "    <tr style=\"text-align: right;\">\n",
       "      <th></th>\n",
       "      <th>Length</th>\n",
       "      <th>Diameter</th>\n",
       "      <th>Height</th>\n",
       "      <th>WholeWeight</th>\n",
       "      <th>ShuckedWeight</th>\n",
       "      <th>VisceraWeight</th>\n",
       "      <th>ShellWeight</th>\n",
       "      <th>Sex_F</th>\n",
       "      <th>Sex_I</th>\n",
       "      <th>Sex_M</th>\n",
       "      <th>age</th>\n",
       "    </tr>\n",
       "  </thead>\n",
       "  <tbody>\n",
       "    <tr>\n",
       "      <th>count</th>\n",
       "      <td>4.175000e+03</td>\n",
       "      <td>4.175000e+03</td>\n",
       "      <td>4.175000e+03</td>\n",
       "      <td>4.175000e+03</td>\n",
       "      <td>4.175000e+03</td>\n",
       "      <td>4.175000e+03</td>\n",
       "      <td>4.175000e+03</td>\n",
       "      <td>4175.000000</td>\n",
       "      <td>4175.000000</td>\n",
       "      <td>4175.000000</td>\n",
       "      <td>4175.000000</td>\n",
       "    </tr>\n",
       "    <tr>\n",
       "      <th>mean</th>\n",
       "      <td>-5.309924e-16</td>\n",
       "      <td>2.501791e-16</td>\n",
       "      <td>-1.276424e-16</td>\n",
       "      <td>9.190253e-17</td>\n",
       "      <td>9.190253e-17</td>\n",
       "      <td>-1.395557e-16</td>\n",
       "      <td>1.106234e-16</td>\n",
       "      <td>0.312814</td>\n",
       "      <td>0.321437</td>\n",
       "      <td>0.365749</td>\n",
       "      <td>11.434132</td>\n",
       "    </tr>\n",
       "    <tr>\n",
       "      <th>std</th>\n",
       "      <td>1.000120e+00</td>\n",
       "      <td>1.000120e+00</td>\n",
       "      <td>1.000120e+00</td>\n",
       "      <td>1.000120e+00</td>\n",
       "      <td>1.000120e+00</td>\n",
       "      <td>1.000120e+00</td>\n",
       "      <td>1.000120e+00</td>\n",
       "      <td>0.463695</td>\n",
       "      <td>0.467084</td>\n",
       "      <td>0.481697</td>\n",
       "      <td>3.224802</td>\n",
       "    </tr>\n",
       "    <tr>\n",
       "      <th>min</th>\n",
       "      <td>-3.739200e+00</td>\n",
       "      <td>-3.556353e+00</td>\n",
       "      <td>-3.616755e+00</td>\n",
       "      <td>-1.686778e+00</td>\n",
       "      <td>-1.615769e+00</td>\n",
       "      <td>-1.643855e+00</td>\n",
       "      <td>-1.705341e+00</td>\n",
       "      <td>0.000000</td>\n",
       "      <td>0.000000</td>\n",
       "      <td>0.000000</td>\n",
       "      <td>2.500000</td>\n",
       "    </tr>\n",
       "    <tr>\n",
       "      <th>25%</th>\n",
       "      <td>-6.160186e-01</td>\n",
       "      <td>-5.831195e-01</td>\n",
       "      <td>-6.285436e-01</td>\n",
       "      <td>-7.897811e-01</td>\n",
       "      <td>-7.812588e-01</td>\n",
       "      <td>-7.969813e-01</td>\n",
       "      <td>-7.818478e-01</td>\n",
       "      <td>0.000000</td>\n",
       "      <td>0.000000</td>\n",
       "      <td>0.000000</td>\n",
       "      <td>9.500000</td>\n",
       "    </tr>\n",
       "    <tr>\n",
       "      <th>50%</th>\n",
       "      <td>1.751874e-01</td>\n",
       "      <td>1.727873e-01</td>\n",
       "      <td>2.106763e-02</td>\n",
       "      <td>-5.912129e-02</td>\n",
       "      <td>-1.046289e-01</td>\n",
       "      <td>-8.706869e-02</td>\n",
       "      <td>-3.442911e-02</td>\n",
       "      <td>0.000000</td>\n",
       "      <td>0.000000</td>\n",
       "      <td>0.000000</td>\n",
       "      <td>10.500000</td>\n",
       "    </tr>\n",
       "    <tr>\n",
       "      <th>75%</th>\n",
       "      <td>7.581813e-01</td>\n",
       "      <td>7.271190e-01</td>\n",
       "      <td>6.706788e-01</td>\n",
       "      <td>6.623543e-01</td>\n",
       "      <td>6.430472e-01</td>\n",
       "      <td>6.593668e-01</td>\n",
       "      <td>6.465124e-01</td>\n",
       "      <td>1.000000</td>\n",
       "      <td>1.000000</td>\n",
       "      <td>1.000000</td>\n",
       "      <td>12.500000</td>\n",
       "    </tr>\n",
       "    <tr>\n",
       "      <th>max</th>\n",
       "      <td>2.423878e+00</td>\n",
       "      <td>2.440508e+00</td>\n",
       "      <td>2.879357e+00</td>\n",
       "      <td>4.075842e+00</td>\n",
       "      <td>5.091889e+00</td>\n",
       "      <td>5.290919e+00</td>\n",
       "      <td>5.506530e+00</td>\n",
       "      <td>1.000000</td>\n",
       "      <td>1.000000</td>\n",
       "      <td>1.000000</td>\n",
       "      <td>30.500000</td>\n",
       "    </tr>\n",
       "  </tbody>\n",
       "</table>\n",
       "</div>"
      ],
      "text/plain": [
       "             Length      Diameter        Height   WholeWeight  ShuckedWeight  \\\n",
       "count  4.175000e+03  4.175000e+03  4.175000e+03  4.175000e+03   4.175000e+03   \n",
       "mean  -5.309924e-16  2.501791e-16 -1.276424e-16  9.190253e-17   9.190253e-17   \n",
       "std    1.000120e+00  1.000120e+00  1.000120e+00  1.000120e+00   1.000120e+00   \n",
       "min   -3.739200e+00 -3.556353e+00 -3.616755e+00 -1.686778e+00  -1.615769e+00   \n",
       "25%   -6.160186e-01 -5.831195e-01 -6.285436e-01 -7.897811e-01  -7.812588e-01   \n",
       "50%    1.751874e-01  1.727873e-01  2.106763e-02 -5.912129e-02  -1.046289e-01   \n",
       "75%    7.581813e-01  7.271190e-01  6.706788e-01  6.623543e-01   6.430472e-01   \n",
       "max    2.423878e+00  2.440508e+00  2.879357e+00  4.075842e+00   5.091889e+00   \n",
       "\n",
       "       VisceraWeight   ShellWeight        Sex_F        Sex_I        Sex_M  \\\n",
       "count   4.175000e+03  4.175000e+03  4175.000000  4175.000000  4175.000000   \n",
       "mean   -1.395557e-16  1.106234e-16     0.312814     0.321437     0.365749   \n",
       "std     1.000120e+00  1.000120e+00     0.463695     0.467084     0.481697   \n",
       "min    -1.643855e+00 -1.705341e+00     0.000000     0.000000     0.000000   \n",
       "25%    -7.969813e-01 -7.818478e-01     0.000000     0.000000     0.000000   \n",
       "50%    -8.706869e-02 -3.442911e-02     0.000000     0.000000     0.000000   \n",
       "75%     6.593668e-01  6.465124e-01     1.000000     1.000000     1.000000   \n",
       "max     5.290919e+00  5.506530e+00     1.000000     1.000000     1.000000   \n",
       "\n",
       "               age  \n",
       "count  4175.000000  \n",
       "mean     11.434132  \n",
       "std       3.224802  \n",
       "min       2.500000  \n",
       "25%       9.500000  \n",
       "50%      10.500000  \n",
       "75%      12.500000  \n",
       "max      30.500000  "
      ]
     },
     "execution_count": 62,
     "metadata": {},
     "output_type": "execute_result"
    }
   ],
   "source": [
    "scaled_features.describe()"
   ]
  },
  {
   "cell_type": "code",
   "execution_count": 67,
   "id": "e111d306",
   "metadata": {},
   "outputs": [
    {
     "name": "stdout",
     "output_type": "stream",
     "text": [
      "\n",
      "Thanks for being a Gradio user! If you have questions or feedback, please join our Discord server and chat with us: https://discord.gg/feTf9x3ZSB\n",
      "Running on local URL:  http://127.0.0.1:7875\n",
      "\n",
      "To create a public link, set `share=True` in `launch()`.\n"
     ]
    },
    {
     "data": {
      "text/html": [
       "<div><iframe src=\"http://127.0.0.1:7875/\" width=\"100%\" height=\"500\" allow=\"autoplay; camera; microphone; clipboard-read; clipboard-write;\" frameborder=\"0\" allowfullscreen></iframe></div>"
      ],
      "text/plain": [
       "<IPython.core.display.HTML object>"
      ]
     },
     "metadata": {},
     "output_type": "display_data"
    },
    {
     "data": {
      "text/plain": []
     },
     "execution_count": 67,
     "metadata": {},
     "output_type": "execute_result"
    },
    {
     "name": "stderr",
     "output_type": "stream",
     "text": [
      "C:\\Users\\B&E\\AppData\\Roaming\\Python\\Python310\\site-packages\\sklearn\\base.py:450: UserWarning: X does not have valid feature names, but RandomForestRegressor was fitted with feature names\n",
      "  warnings.warn(\n"
     ]
    }
   ],
   "source": [
    "import gradio as gr\n",
    "import pickle\n",
    "import json\n",
    "from sklearn.preprocessing import StandardScaler\n",
    "\n",
    "def greet(Length,Diameter,Height,WholeWeight,ShuckedWeight,VisceraWeight,ShellWeight,Sex_F,Sex_I,Sex_M):\n",
    " \n",
    "\n",
    "    columns=[\"Length\",\"Diameter\",\"Height\",\"WholeWeight\",\"ShuckedWeight\",\"VisceraWeight\",\"ShellWeight\",\"Sex_F\",\"Sex_I\",\"Sex_M\"]\n",
    "\n",
    "    x = np.zeros(len(columns))\n",
    "    x[0] = (Length-5.309924e-16)/1.000120e+00\n",
    "    x[1] = (Diameter-2.501791e-16)/1.000120e+00\n",
    "    x[2] = (Height-1.276424e-16)/1.000120e+00\n",
    "    x[3]=(WholeWeight-9.190253e-17)/1.000120e+00\n",
    "    x[4]=(ShuckedWeight-9.190253e-17)/1.000120e+00\n",
    "    x[5]=(VisceraWeight-1.395557e-16)/1.000120e+00\n",
    "    x[6]=(ShellWeight-1.106234e-16)/1.000120e+00\n",
    "    x[7]=Sex_F\n",
    "    x[8]=Sex_I\n",
    "    x[9]=Sex_M\n",
    "    x=x.reshape(1,-1)\n",
    "    \n",
    "    \n",
    "    \n",
    "    \n",
    "    \n",
    "    \n",
    "    \n",
    "    \n",
    "    \n",
    "    result=model.predict(x)[0]\n",
    "\n",
    "    \n",
    "    return result\n",
    "    \n",
    "\n",
    "demo = gr.Interface(\n",
    "    fn=greet,\n",
    "    inputs=[\"number\",\"number\",\"number\",\"number\",\"number\",\"number\",\"number\",\"number\",\"number\",\"number\"],\n",
    "    outputs=[\"number\"]\n",
    ")\n",
    "demo.launch()"
   ]
  }
 ],
 "metadata": {
  "kernelspec": {
   "display_name": "Python 3 (ipykernel)",
   "language": "python",
   "name": "python3"
  },
  "language_info": {
   "codemirror_mode": {
    "name": "ipython",
    "version": 3
   },
   "file_extension": ".py",
   "mimetype": "text/x-python",
   "name": "python",
   "nbconvert_exporter": "python",
   "pygments_lexer": "ipython3",
   "version": "3.10.4"
  }
 },
 "nbformat": 4,
 "nbformat_minor": 5
}
